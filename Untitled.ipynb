{
 "cells": [
  {
   "cell_type": "code",
   "execution_count": 1,
   "metadata": {},
   "outputs": [],
   "source": [
    "import pandas as pd\n",
    "from pyspark.sql import SparkSession\n",
    "from pyspark import SparkContext\n",
    "from pyspark.sql import SQLContext\n",
    "from pyspark.sql.types import *\n",
    "import numpy as np\n",
    "import matplotlib.pyplot as plt\n",
    "from pyspark.sql.functions import col, udf,year\n",
    "from pyspark.sql.types import DateType,IntegerType\n",
    "from pyspark.sql.types import StringType"
   ]
  },
  {
   "cell_type": "code",
   "execution_count": 2,
   "metadata": {},
   "outputs": [],
   "source": [
    "plt.style.use('ggplot')"
   ]
  },
  {
   "cell_type": "code",
   "execution_count": 3,
   "metadata": {},
   "outputs": [],
   "source": [
    "spark=SparkSession.builder.appName(\"lz\").getOrCreate()\n",
    "sc = SparkContext.getOrCreate()\n",
    "sql = \"D:\\\\赵玥\\\\だいがく\\\\大三下\\\\高级大数据解析\\\\spark\\\\data\\\\mernis\\\\data_dump.sql\"# 拉数SQL\n",
    "data = sc.textFile(sql,4).map(lambda line: line.split(\"\\t\"))"
   ]
  },
  {
   "cell_type": "code",
   "execution_count": 4,
   "metadata": {},
   "outputs": [
    {
     "data": {
      "text/plain": [
       "PythonRDD[2] at RDD at PythonRDD.scala:53"
      ]
     },
     "execution_count": 4,
     "metadata": {},
     "output_type": "execute_result"
    }
   ],
   "source": [
    "data"
   ]
  },
  {
   "cell_type": "code",
   "execution_count": 5,
   "metadata": {},
   "outputs": [
    {
     "data": {
      "text/plain": [
       "pyspark.rdd.PipelinedRDD"
      ]
     },
     "execution_count": 5,
     "metadata": {},
     "output_type": "execute_result"
    }
   ],
   "source": [
    "type(data)"
   ]
  },
  {
   "cell_type": "code",
   "execution_count": 6,
   "metadata": {},
   "outputs": [],
   "source": [
    "data=data.filter(lambda line: len(line)>1)"
   ]
  },
  {
   "cell_type": "code",
   "execution_count": null,
   "metadata": {},
   "outputs": [],
   "source": [
    "data.count()"
   ]
  },
  {
   "cell_type": "code",
   "execution_count": null,
   "metadata": {
    "scrolled": true
   },
   "outputs": [],
   "source": []
  },
  {
   "cell_type": "code",
   "execution_count": 7,
   "metadata": {},
   "outputs": [],
   "source": [
    "schema=['uid', 'national_identifier', 'first_name', \"last_name\",'mother_first','father_first', 'gender', 'birth_city',\n",
    "'date_of_birth', 'id_registration_city', 'id_registration_district', 'address_city', 'address_district',\n",
    "'address_neighborhood', 'street_address', 'door_or_entrance_number', 'misc']"
   ]
  },
  {
   "cell_type": "code",
   "execution_count": 8,
   "metadata": {},
   "outputs": [],
   "source": [
    "df = spark.createDataFrame(data,schema=schema)"
   ]
  },
  {
   "cell_type": "code",
   "execution_count": 9,
   "metadata": {},
   "outputs": [
    {
     "name": "stdout",
     "output_type": "stream",
     "text": [
      "+------+-------------------+----------+---------+------------+------------+------+----------+-------------+--------------------+------------------------+------------+----------------+--------------------+----------------+-----------------------+------+\n",
      "|   uid|national_identifier|first_name|last_name|mother_first|father_first|gender|birth_city|date_of_birth|id_registration_city|id_registration_district|address_city|address_district|address_neighborhood|  street_address|door_or_entrance_number|  misc|\n",
      "+------+-------------------+----------+---------+------------+------------+------+----------+-------------+--------------------+------------------------+------------+----------------+--------------------+----------------+-----------------------+------+\n",
      "|291990|        23480340824|  NESLIHAN|   ZENGIN|      ZEYCAN|       OSMAN|     K|    KANGAL|    10/6/1978|             MALATYA|                KULUNCAK|     MALATYA|        KULUNCAK|      ISMETPASA MAH.|BOGAZICI CADDESI|                     14|<NULL>|\n",
      "|291991|        17111553172|     SADET| YILDIRIM|       ZOHRE|      ISMAIL|     K|    MERSIN|     3/8/1949|             MALATYA|                KULUNCAK|     MALATYA|        KULUNCAK|      ISMETPASA MAH.| CITILBAGI SOKAK|                     40|<NULL>|\n",
      "|291992|        10499773538|     GONUL|    CETIN|        ESME|      HALIFE|     K|  KULUNCAK|    15/8/1987|             MALATYA|                 AKCADAG|     MALATYA|        KULUNCAK|      ISMETPASA MAH.|BOGAZICI CADDESI|                      2|<NULL>|\n",
      "|291993|        35995199842|     MURAT|     GENC|        ELIF|      ISMAIL|     E|     CORUM|    23/4/1983|               CORUM|            CORUM MERKEZ|     MALATYA|        KULUNCAK|      ISMETPASA MAH.|      KALE SOKAK|                     23|<NULL>|\n",
      "|291994|        17417542900|     SENEM| YILDIRIM|       SEDEF|     MUSTAFA|     K| ORTA OREN|     1/7/1936|             MALATYA|                KULUNCAK|     MALATYA|        KULUNCAK|      ISMETPASA MAH.| CITILBAGI SOKAK|                     40|<NULL>|\n",
      "+------+-------------------+----------+---------+------------+------------+------+----------+-------------+--------------------+------------------------+------------+----------------+--------------------+----------------+-----------------------+------+\n",
      "only showing top 5 rows\n",
      "\n"
     ]
    }
   ],
   "source": [
    "df.show(5)"
   ]
  },
  {
   "cell_type": "code",
   "execution_count": null,
   "metadata": {},
   "outputs": [],
   "source": []
  },
  {
   "cell_type": "code",
   "execution_count": 10,
   "metadata": {},
   "outputs": [
    {
     "data": {
      "text/plain": [
       "[('uid', 'string'),\n",
       " ('national_identifier', 'string'),\n",
       " ('first_name', 'string'),\n",
       " ('last_name', 'string'),\n",
       " ('mother_first', 'string'),\n",
       " ('father_first', 'string'),\n",
       " ('gender', 'string'),\n",
       " ('birth_city', 'string'),\n",
       " ('date_of_birth', 'string'),\n",
       " ('id_registration_city', 'string'),\n",
       " ('id_registration_district', 'string'),\n",
       " ('address_city', 'string'),\n",
       " ('address_district', 'string'),\n",
       " ('address_neighborhood', 'string'),\n",
       " ('street_address', 'string'),\n",
       " ('door_or_entrance_number', 'string'),\n",
       " ('misc', 'string')]"
      ]
     },
     "execution_count": 10,
     "metadata": {},
     "output_type": "execute_result"
    }
   ],
   "source": [
    "df.dtypes"
   ]
  },
  {
   "cell_type": "code",
   "execution_count": null,
   "metadata": {},
   "outputs": [],
   "source": []
  },
  {
   "cell_type": "code",
   "execution_count": null,
   "metadata": {},
   "outputs": [],
   "source": []
  },
  {
   "cell_type": "code",
   "execution_count": 11,
   "metadata": {},
   "outputs": [
    {
     "name": "stdout",
     "output_type": "stream",
     "text": [
      "+------+-------------------+----------+---------+------------+------------+------+----------+-------------+--------------------+------------------------+------------+----------------+--------------------+----------------+-----------------------+------+----------+---+-----------+\n",
      "|   uid|national_identifier|first_name|last_name|mother_first|father_first|gender|birth_city|date_of_birth|id_registration_city|id_registration_district|address_city|address_district|address_neighborhood|  street_address|door_or_entrance_number|  misc|birth_year|age|birth_month|\n",
      "+------+-------------------+----------+---------+------------+------------+------+----------+-------------+--------------------+------------------------+------------+----------------+--------------------+----------------+-----------------------+------+----------+---+-----------+\n",
      "|291990|        23480340824|  NESLIHAN|   ZENGIN|      ZEYCAN|       OSMAN|     K|    KANGAL|    10/6/1978|             MALATYA|                KULUNCAK|     MALATYA|        KULUNCAK|      ISMETPASA MAH.|BOGAZICI CADDESI|                     14|<NULL>|      1978| 31|          6|\n",
      "|291991|        17111553172|     SADET| YILDIRIM|       ZOHRE|      ISMAIL|     K|    MERSIN|     3/8/1949|             MALATYA|                KULUNCAK|     MALATYA|        KULUNCAK|      ISMETPASA MAH.| CITILBAGI SOKAK|                     40|<NULL>|      1949| 60|          8|\n",
      "|291992|        10499773538|     GONUL|    CETIN|        ESME|      HALIFE|     K|  KULUNCAK|    15/8/1987|             MALATYA|                 AKCADAG|     MALATYA|        KULUNCAK|      ISMETPASA MAH.|BOGAZICI CADDESI|                      2|<NULL>|      1987| 22|          8|\n",
      "|291993|        35995199842|     MURAT|     GENC|        ELIF|      ISMAIL|     E|     CORUM|    23/4/1983|               CORUM|            CORUM MERKEZ|     MALATYA|        KULUNCAK|      ISMETPASA MAH.|      KALE SOKAK|                     23|<NULL>|      1983| 26|          4|\n",
      "|291994|        17417542900|     SENEM| YILDIRIM|       SEDEF|     MUSTAFA|     K| ORTA OREN|     1/7/1936|             MALATYA|                KULUNCAK|     MALATYA|        KULUNCAK|      ISMETPASA MAH.| CITILBAGI SOKAK|                     40|<NULL>|      1936| 73|          7|\n",
      "+------+-------------------+----------+---------+------------+------------+------+----------+-------------+--------------------+------------------------+------------+----------------+--------------------+----------------+-----------------------+------+----------+---+-----------+\n",
      "only showing top 5 rows\n",
      "\n"
     ]
    }
   ],
   "source": [
    "\n",
    "# Setting an user define function:\n",
    "# This function converts the string cell into a date:\n",
    "def year(x):\n",
    "    try:\n",
    "        return int(x[-4:])\n",
    "    except:\n",
    "        print(x)\n",
    "        return 0\n",
    "func_year =  udf (lambda x: year(x), IntegerType())\n",
    "func_age =  udf (lambda x: 2009-x, IntegerType())\n",
    "\n",
    "def month(x):\n",
    "    y=x.split(\"/\")[1]\n",
    "    if len(y)!=0:\n",
    "        y=int(y)\n",
    "    else:return 0\n",
    "    if y not in range(1,13):\n",
    "        return 0\n",
    "    else:return y\n",
    "func_month =  udf (lambda x: month(x), IntegerType())\n",
    "\n",
    "df = df.withColumn('birth_year', func_year(col('date_of_birth')))\n",
    "df = df.withColumn('age', func_age(col('birth_year')))\n",
    "df = df.withColumn('birth_month', func_month(col('date_of_birth')))\n",
    "df.show(5)"
   ]
  },
  {
   "cell_type": "code",
   "execution_count": 12,
   "metadata": {},
   "outputs": [],
   "source": [
    "from pyspark.sql.types import StringType\n",
    "func_name =  udf (lambda x,y: x+y, StringType())\n",
    "\n",
    "df = df.withColumn('name', func_name(col('first_name'),col('last_name')))"
   ]
  },
  {
   "cell_type": "code",
   "execution_count": null,
   "metadata": {},
   "outputs": [],
   "source": []
  },
  {
   "cell_type": "code",
   "execution_count": 13,
   "metadata": {},
   "outputs": [],
   "source": [
    "df.createOrReplaceTempView(\"mernis\")"
   ]
  },
  {
   "cell_type": "markdown",
   "metadata": {},
   "source": [
    "统计⼟⽿其公民中所有⼈中年龄最⼤的男⼈"
   ]
  },
  {
   "cell_type": "code",
   "execution_count": 20,
   "metadata": {
    "scrolled": true
   },
   "outputs": [
    {
     "name": "stdout",
     "output_type": "stream",
     "text": [
      "+--------+\n",
      "|max(age)|\n",
      "+--------+\n",
      "|     680|\n",
      "+--------+\n",
      "\n"
     ]
    }
   ],
   "source": [
    "spark.sql(\"SELECT MAX(age) FROM mernis WHERE gender='E' AND age < 1000\").show()"
   ]
  },
  {
   "cell_type": "code",
   "execution_count": 20,
   "metadata": {},
   "outputs": [
    {
     "name": "stdout",
     "output_type": "stream",
     "text": [
      "+-------------------+----------+---------+--------------------+\n",
      "|national_identifier|first_name|last_name|id_registration_city|\n",
      "+-------------------+----------+---------+--------------------+\n",
      "|        52552749852|     CELIL|     UNAL|              BARTIN|\n",
      "+-------------------+----------+---------+--------------------+\n",
      "\n"
     ]
    }
   ],
   "source": [
    "spark.sql(\"SELECT national_identifier,first_name,last_name,id_registration_city FROM mernis WHERE gender='E' AND age ==680 \").show()"
   ]
  },
  {
   "cell_type": "markdown",
   "metadata": {},
   "source": [
    "统计姓名中最常出现的字母"
   ]
  },
  {
   "cell_type": "code",
   "execution_count": 92,
   "metadata": {},
   "outputs": [],
   "source": [
    "def f(x):\n",
    "    y=x.split()\n",
    "    z=list()\n",
    "    for i in y:\n",
    "        z.extend(list(i))\n",
    "    return z\n",
    "result=df.select('name').rdd.flatMap(lambda x: x).flatMap(lambda x:f(x))"
   ]
  },
  {
   "cell_type": "code",
   "execution_count": 93,
   "metadata": {},
   "outputs": [],
   "source": [
    "alphabet=result.map(lambda x: (x, 1)). reduceByKey(lambda x,y: x+y). sortBy(lambda x: x[1], False)"
   ]
  },
  {
   "cell_type": "code",
   "execution_count": null,
   "metadata": {},
   "outputs": [],
   "source": [
    "alphabet.take(20)"
   ]
  },
  {
   "cell_type": "code",
   "execution_count": 95,
   "metadata": {},
   "outputs": [],
   "source": [
    "a_b=[i for i in alphabet.map(lambda x:x[0]).collect()][:20]\n",
    "count=[i for i in alphabet.map(lambda x:x[1]).collect()][:20]"
   ]
  },
  {
   "cell_type": "code",
   "execution_count": 96,
   "metadata": {},
   "outputs": [
    {
     "data": {
      "image/png": "[encoded data removed]",
      "text/plain": [
       "<Figure size 432x288 with 1 Axes>"
      ]
     },
     "metadata": {},
     "output_type": "display_data"
    }
   ],
   "source": [
    "plt.bar(range(20),count)\n",
    "plt.xticks(range(20),a_b)\n",
    "plt.xlabel(\"Alphabet\")\n",
    "plt.ylabel(\"Count\")\n",
    "plt.show()"
   ]
  },
  {
   "cell_type": "code",
   "execution_count": null,
   "metadata": {},
   "outputs": [],
   "source": []
  },
  {
   "cell_type": "markdown",
   "metadata": {},
   "source": [
    "统计该国⼈⼜的年龄分布，年龄段分（0-18， 19-28， 29-38，39-48, 49-59，>60）"
   ]
  },
  {
   "cell_type": "code",
   "execution_count": 67,
   "metadata": {},
   "outputs": [
    {
     "name": "stdout",
     "output_type": "stream",
     "text": [
      "+--------+\n",
      "|count(1)|\n",
      "+--------+\n",
      "|  349145|\n",
      "+--------+\n",
      "\n"
     ]
    }
   ],
   "source": [
    "spark.sql(\"SELECT COUNT(*) FROM mernis WHERE age>=0 AND age<=18\").show()"
   ]
  },
  {
   "cell_type": "code",
   "execution_count": 68,
   "metadata": {},
   "outputs": [
    {
     "name": "stdout",
     "output_type": "stream",
     "text": [
      "+--------+\n",
      "|count(1)|\n",
      "+--------+\n",
      "|12593171|\n",
      "+--------+\n",
      "\n"
     ]
    }
   ],
   "source": [
    "spark.sql(\"SELECT COUNT(*) FROM mernis WHERE age>=19 AND age<=28\").show()"
   ]
  },
  {
   "cell_type": "code",
   "execution_count": 69,
   "metadata": {},
   "outputs": [
    {
     "name": "stdout",
     "output_type": "stream",
     "text": [
      "+--------+\n",
      "|count(1)|\n",
      "+--------+\n",
      "|11869188|\n",
      "+--------+\n",
      "\n"
     ]
    }
   ],
   "source": [
    "spark.sql(\"SELECT COUNT(*) FROM mernis WHERE age>=29 AND age<=38\").show()"
   ]
  },
  {
   "cell_type": "code",
   "execution_count": 70,
   "metadata": {},
   "outputs": [
    {
     "name": "stdout",
     "output_type": "stream",
     "text": [
      "+--------+\n",
      "|count(1)|\n",
      "+--------+\n",
      "| 9401053|\n",
      "+--------+\n",
      "\n"
     ]
    }
   ],
   "source": [
    "spark.sql(\"SELECT COUNT(*) FROM mernis WHERE age>=39 AND age<=48\").show()"
   ]
  },
  {
   "cell_type": "code",
   "execution_count": 71,
   "metadata": {},
   "outputs": [
    {
     "name": "stdout",
     "output_type": "stream",
     "text": [
      "+--------+\n",
      "|count(1)|\n",
      "+--------+\n",
      "| 7730567|\n",
      "+--------+\n",
      "\n"
     ]
    }
   ],
   "source": [
    "spark.sql(\"SELECT COUNT(*) FROM mernis WHERE age>=49 AND age<=59\").show()"
   ]
  },
  {
   "cell_type": "code",
   "execution_count": 72,
   "metadata": {},
   "outputs": [
    {
     "name": "stdout",
     "output_type": "stream",
     "text": [
      "+--------+\n",
      "|count(1)|\n",
      "+--------+\n",
      "| 7668583|\n",
      "+--------+\n",
      "\n"
     ]
    }
   ],
   "source": [
    "spark.sql(\"SELECT COUNT(*) FROM mernis WHERE age>=60 AND age<1000\").show()"
   ]
  },
  {
   "cell_type": "code",
   "execution_count": 76,
   "metadata": {},
   "outputs": [],
   "source": [
    "x_=['0-18','19-28', '29-38','39-48','49-59','>60']\n",
    "y_=[349145,12593171,11869188,9401053, 7730567,7668583]"
   ]
  },
  {
   "cell_type": "code",
   "execution_count": 101,
   "metadata": {},
   "outputs": [
    {
     "data": {
      "image/png": "[encoded data removed]",
      "text/plain": [
       "<Figure size 432x288 with 1 Axes>"
      ]
     },
     "metadata": {},
     "output_type": "display_data"
    }
   ],
   "source": [
    "plt.bar(range(6),y_)\n",
    "plt.xticks(range(6),x_,rotation=30)\n",
    "plt.xlabel(\"age\")\n",
    "plt.ylabel(\"count\")\n",
    "plt.show()"
   ]
  },
  {
   "cell_type": "code",
   "execution_count": null,
   "metadata": {},
   "outputs": [],
   "source": []
  },
  {
   "cell_type": "code",
   "execution_count": null,
   "metadata": {},
   "outputs": [],
   "source": []
  },
  {
   "cell_type": "markdown",
   "metadata": {},
   "source": [
    "按⽉份，统计该国⼈⼜⽣⽇在每个⽉上的分布"
   ]
  },
  {
   "cell_type": "code",
   "execution_count": 97,
   "metadata": {},
   "outputs": [
    {
     "name": "stdout",
     "output_type": "stream",
     "text": [
      "+-----------+-------+\n",
      "|birth_month|  count|\n",
      "+-----------+-------+\n",
      "|          0|  62064|\n",
      "|          1|7824976|\n",
      "|          2|4688993|\n",
      "|          3|5124982|\n",
      "|          4|4184062|\n",
      "|          5|4217321|\n",
      "|          6|3463381|\n",
      "|          7|4249153|\n",
      "|          8|3170640|\n",
      "|          9|3450705|\n",
      "|         10|3434428|\n",
      "|         11|2912085|\n",
      "|         12|2828919|\n",
      "+-----------+-------+\n",
      "\n"
     ]
    }
   ],
   "source": [
    "birth=spark.sql(\"SELECT birth_month,COUNT(*) AS count FROM mernis GROUP BY birth_month ORDER BY birth_month\")\n",
    "birth.show()"
   ]
  },
  {
   "cell_type": "code",
   "execution_count": 98,
   "metadata": {},
   "outputs": [],
   "source": [
    "number=birth.select(\"count\").rdd.flatMap(lambda x:x).collect()\n",
    "month=birth.select(\"birth_month\").rdd.flatMap(lambda x:x).collect()\n",
    "x=  np.array([c for c in month])\n",
    "y =  np.array([c for c in number])"
   ]
  },
  {
   "cell_type": "code",
   "execution_count": 102,
   "metadata": {},
   "outputs": [
    {
     "data": {
      "image/png": "[encoded data removed]",
      "text/plain": [
       "<Figure size 432x288 with 1 Axes>"
      ]
     },
     "metadata": {},
     "output_type": "display_data"
    }
   ],
   "source": [
    "plt.bar(x[1:],y[1:])\n",
    "plt.xticks(x[1:])\n",
    "plt.xlabel(\"month\")\n",
    "plt.ylabel(\"count\")\n",
    "plt.show()"
   ]
  },
  {
   "cell_type": "markdown",
   "metadata": {},
   "source": [
    "统计⼀下该国的男⼥⽐例，男⼥⼈数"
   ]
  },
  {
   "cell_type": "code",
   "execution_count": 106,
   "metadata": {},
   "outputs": [
    {
     "name": "stdout",
     "output_type": "stream",
     "text": [
      "+------+--------+\n",
      "|gender|   count|\n",
      "+------+--------+\n",
      "|     K|25077226|\n",
      "|     E|24534483|\n",
      "+------+--------+\n",
      "\n"
     ]
    }
   ],
   "source": [
    "gender=spark.sql(\"SELECT gender,COUNT(*) AS count FROM mernis GROUP BY gender\")\n",
    "gender.show()"
   ]
  },
  {
   "cell_type": "code",
   "execution_count": 107,
   "metadata": {},
   "outputs": [],
   "source": [
    "number=gender.select(\"count\").rdd.flatMap(lambda x:x).collect()"
   ]
  },
  {
   "cell_type": "code",
   "execution_count": 109,
   "metadata": {},
   "outputs": [
    {
     "data": {
      "text/plain": [
       "0.9783571356736188"
      ]
     },
     "execution_count": 109,
     "metadata": {},
     "output_type": "execute_result"
    }
   ],
   "source": [
    "number[1]/number[0]"
   ]
  },
  {
   "cell_type": "code",
   "execution_count": null,
   "metadata": {},
   "outputs": [],
   "source": []
  },
  {
   "cell_type": "markdown",
   "metadata": {},
   "source": [
    "统计男性，⼥性最常见的10个姓"
   ]
  },
  {
   "cell_type": "code",
   "execution_count": 20,
   "metadata": {},
   "outputs": [
    {
     "name": "stdout",
     "output_type": "stream",
     "text": [
      "+---------+------+\n",
      "|last_name| count|\n",
      "+---------+------+\n",
      "|   YILMAZ|352338|\n",
      "|     KAYA|244272|\n",
      "|    DEMIR|231289|\n",
      "|    SAHIN|201958|\n",
      "|    CELIK|199622|\n",
      "|   YILDIZ|195162|\n",
      "| YILDIRIM|191966|\n",
      "|   OZTURK|178610|\n",
      "|    AYDIN|177894|\n",
      "|  OZDEMIR|164085|\n",
      "+---------+------+\n",
      "only showing top 10 rows\n",
      "\n"
     ]
    }
   ],
   "source": [
    "spark.sql('''SELECT last_name,COUNT(*) AS count \n",
    "FROM mernis WHERE gender='E' GROUP BY last_name ORDER BY count DESC''').show(10)"
   ]
  },
  {
   "cell_type": "code",
   "execution_count": 21,
   "metadata": {},
   "outputs": [
    {
     "name": "stdout",
     "output_type": "stream",
     "text": [
      "+---------+------+\n",
      "|last_name| count|\n",
      "+---------+------+\n",
      "|   YILMAZ|355954|\n",
      "|     KAYA|244100|\n",
      "|    DEMIR|230428|\n",
      "|    SAHIN|202155|\n",
      "|    CELIK|199330|\n",
      "|   YILDIZ|194060|\n",
      "| YILDIRIM|192835|\n",
      "|   OZTURK|180292|\n",
      "|    AYDIN|178501|\n",
      "|  OZDEMIR|165924|\n",
      "+---------+------+\n",
      "only showing top 10 rows\n",
      "\n"
     ]
    }
   ],
   "source": [
    "spark.sql('''SELECT last_name,COUNT(*) AS count \n",
    "FROM mernis WHERE gender='K' GROUP BY last_name ORDER BY count DESC''').show(10)"
   ]
  },
  {
   "cell_type": "markdown",
   "metadata": {},
   "source": [
    "统计每个城市市民的平均年龄"
   ]
  },
  {
   "cell_type": "code",
   "execution_count": 17,
   "metadata": {
    "scrolled": true
   },
   "outputs": [],
   "source": [
    "city_avgAge=spark.sql(\"SELECT id_registration_city,ROUND(AVG(age),2) AS average_age FROM mernis WHERE age <1000 GROUP BY id_registration_city\")"
   ]
  },
  {
   "cell_type": "code",
   "execution_count": 19,
   "metadata": {},
   "outputs": [
    {
     "name": "stdout",
     "output_type": "stream",
     "text": [
      "+--------------------+-----------+\n",
      "|id_registration_city|average_age|\n",
      "+--------------------+-----------+\n",
      "|               ADANA|      40.89|\n",
      "|             DENIZLI|      43.52|\n",
      "|             TRABZON|      41.71|\n",
      "|           BALIKESIR|      44.66|\n",
      "|             BILECIK|      44.64|\n",
      "|             GIRESUN|      41.73|\n",
      "|              ARTVIN|      42.95|\n",
      "|           ZONGULDAK|      41.63|\n",
      "|            ISTANBUL|      45.97|\n",
      "|             ERZURUM|      39.56|\n",
      "|               IGDIR|      38.58|\n",
      "|            NEVSEHIR|      41.87|\n",
      "|              MANISA|      43.78|\n",
      "|              BITLIS|      36.69|\n",
      "|               BURSA|      43.82|\n",
      "|               IZMIR|      45.02|\n",
      "|                 VAN|      36.33|\n",
      "|             HAKKARI|      35.71|\n",
      "|                BOLU|      43.82|\n",
      "|               CORUM|      41.28|\n",
      "|            ERZINCAN|      42.32|\n",
      "|          KIRKLARELI|      44.63|\n",
      "|               NIGDE|      40.69|\n",
      "|              AMASYA|      41.96|\n",
      "|      AFYONKARAHISAR|      41.92|\n",
      "|               KILIS|      39.67|\n",
      "|               AYDIN|      45.07|\n",
      "|             KAYSERI|      41.43|\n",
      "|             MALATYA|      40.64|\n",
      "|              BURDUR|       44.4|\n",
      "|       KAHRAMANMARAS|      39.55|\n",
      "|              BATMAN|      36.11|\n",
      "|              ANKARA|      42.79|\n",
      "|               SINOP|      41.62|\n",
      "|             KUTAHYA|      43.11|\n",
      "|             CANKIRI|      42.91|\n",
      "|           KIRIKKALE|      40.54|\n",
      "|             AKSARAY|       40.0|\n",
      "|           ESKISEHIR|      43.97|\n",
      "|                ORDU|      41.01|\n",
      "|               SIVAS|      41.03|\n",
      "|              SIRNAK|      35.85|\n",
      "|           KASTAMONU|      42.66|\n",
      "|           CANAKKALE|      45.46|\n",
      "|             TUNCELI|      42.02|\n",
      "|              ELAZIG|      40.75|\n",
      "|                KARS|       39.6|\n",
      "|                AGRI|      36.74|\n",
      "|             SAKARYA|      42.47|\n",
      "|           SANLIURFA|      36.71|\n",
      "|            ADIYAMAN|      38.03|\n",
      "|               DUZCE|      42.16|\n",
      "|             BAYBURT|      40.95|\n",
      "|          DIYARBAKIR|      36.86|\n",
      "|                 MUS|      36.49|\n",
      "|               SIIRT|      36.72|\n",
      "|               MUGLA|      44.58|\n",
      "|           GUMUSHANE|      41.04|\n",
      "|              EDIRNE|      44.65|\n",
      "|             ANTALYA|      42.95|\n",
      "|             KARABUK|      42.38|\n",
      "|               TOKAT|      40.74|\n",
      "|              YALOVA|      44.15|\n",
      "|             ISPARTA|      43.51|\n",
      "|             KARAMAN|      41.91|\n",
      "|            TEKIRDAG|      44.46|\n",
      "|                RIZE|      42.09|\n",
      "|            OSMANIYE|      39.88|\n",
      "|             KOCAELI|      43.05|\n",
      "|              BARTIN|       41.8|\n",
      "|            KIRSEHIR|      41.05|\n",
      "|              MARDIN|      37.18|\n",
      "|           GAZIANTEP|      39.09|\n",
      "|              SAMSUN|      41.07|\n",
      "|               HATAY|      39.96|\n",
      "|             ARDAHAN|       39.7|\n",
      "|                USAK|       43.7|\n",
      "|               KONYA|      41.46|\n",
      "|              MERSIN|      41.97|\n",
      "|              BINGOL|      38.14|\n",
      "|              YOZGAT|      40.39|\n",
      "+--------------------+-----------+\n",
      "\n"
     ]
    }
   ],
   "source": [
    "city_avgAge.show(90)"
   ]
  },
  {
   "cell_type": "code",
   "execution_count": null,
   "metadata": {},
   "outputs": [],
   "source": []
  },
  {
   "cell_type": "code",
   "execution_count": null,
   "metadata": {},
   "outputs": [],
   "source": []
  },
  {
   "cell_type": "markdown",
   "metadata": {},
   "source": [
    "说⼀下该国平均⼈⼜最年轻的5的城市"
   ]
  },
  {
   "cell_type": "code",
   "execution_count": 18,
   "metadata": {},
   "outputs": [
    {
     "name": "stdout",
     "output_type": "stream",
     "text": [
      "+--------------------+-----------+\n",
      "|id_registration_city|average_age|\n",
      "+--------------------+-----------+\n",
      "|             HAKKARI|      35.71|\n",
      "|              SIRNAK|      35.85|\n",
      "|              BATMAN|      36.11|\n",
      "|                 VAN|      36.33|\n",
      "|                 MUS|      36.49|\n",
      "+--------------------+-----------+\n",
      "only showing top 5 rows\n",
      "\n"
     ]
    }
   ],
   "source": [
    "city_avgAge.orderBy(col('average_age')).show(5)"
   ]
  },
  {
   "cell_type": "markdown",
   "metadata": {},
   "source": [
    "spark.sql('''SELECT id_registration_city,ROUND(AVG(age),2) \n",
    "          AS average_age FROM try WHERE age <1000\n",
    "          GROUP BY id_registration_city ORDER BY AVG(age) ''').show(5)"
   ]
  },
  {
   "cell_type": "code",
   "execution_count": null,
   "metadata": {},
   "outputs": [],
   "source": []
  },
  {
   "cell_type": "markdown",
   "metadata": {},
   "source": [
    "统计⼀下该国前10⼤⼈⼜城市中，每个城市的前3⼤姓⽒"
   ]
  },
  {
   "cell_type": "code",
   "execution_count": 14,
   "metadata": {},
   "outputs": [],
   "source": [
    "d=df.groupBy('id_registration_city').count().orderBy(col('count').desc())"
   ]
  },
  {
   "cell_type": "code",
   "execution_count": 15,
   "metadata": {},
   "outputs": [],
   "source": [
    "d1=d.select(\"id_registration_city\").rdd.flatMap(lambda x:x)"
   ]
  },
  {
   "cell_type": "code",
   "execution_count": 16,
   "metadata": {},
   "outputs": [],
   "source": [
    "city=[i for i in d1.take(10)]"
   ]
  },
  {
   "cell_type": "code",
   "execution_count": 17,
   "metadata": {},
   "outputs": [
    {
     "data": {
      "text/plain": [
       "['ISTANBUL',\n",
       " 'KONYA',\n",
       " 'IZMIR',\n",
       " 'ANKARA',\n",
       " 'BURSA',\n",
       " 'SIVAS',\n",
       " 'SAMSUN',\n",
       " 'AYDIN',\n",
       " 'ADANA',\n",
       " 'SANLIURFA']"
      ]
     },
     "execution_count": 17,
     "metadata": {},
     "output_type": "execute_result"
    }
   ],
   "source": [
    "city"
   ]
  },
  {
   "cell_type": "code",
   "execution_count": 18,
   "metadata": {
    "scrolled": true
   },
   "outputs": [
    {
     "name": "stdout",
     "output_type": "stream",
     "text": [
      "ISTANBUL\n",
      "+---------+-----+\n",
      "|last_name|count|\n",
      "+---------+-----+\n",
      "|   YILMAZ|22028|\n",
      "|   OZTURK|15302|\n",
      "|    AYDIN|10770|\n",
      "+---------+-----+\n",
      "only showing top 3 rows\n",
      "\n",
      "KONYA\n",
      "+---------+-----+\n",
      "|last_name|count|\n",
      "+---------+-----+\n",
      "|   YILMAZ|16156|\n",
      "|    CELIK|11330|\n",
      "| YILDIRIM|10826|\n",
      "+---------+-----+\n",
      "only showing top 3 rows\n",
      "\n",
      "IZMIR\n",
      "+---------+-----+\n",
      "|last_name|count|\n",
      "+---------+-----+\n",
      "|   YILMAZ|15399|\n",
      "|   OZTURK| 9905|\n",
      "|     KAYA| 8579|\n",
      "+---------+-----+\n",
      "only showing top 3 rows\n",
      "\n",
      "ANKARA\n",
      "+---------+-----+\n",
      "|last_name|count|\n",
      "+---------+-----+\n",
      "|   YILMAZ|22503|\n",
      "|   OZTURK|15195|\n",
      "|  OZDEMIR|12473|\n",
      "+---------+-----+\n",
      "only showing top 3 rows\n",
      "\n",
      "BURSA\n",
      "+---------+-----+\n",
      "|last_name|count|\n",
      "+---------+-----+\n",
      "|   YILMAZ|18134|\n",
      "|    AYDIN|13926|\n",
      "|   OZTURK|12654|\n",
      "+---------+-----+\n",
      "only showing top 3 rows\n",
      "\n",
      "SIVAS\n",
      "+---------+-----+\n",
      "|last_name|count|\n",
      "+---------+-----+\n",
      "|    SAHIN|23224|\n",
      "|   YILMAZ|23148|\n",
      "|     KAYA|21177|\n",
      "+---------+-----+\n",
      "only showing top 3 rows\n",
      "\n",
      "SAMSUN\n",
      "+---------+-----+\n",
      "|last_name|count|\n",
      "+---------+-----+\n",
      "|   YILMAZ|22509|\n",
      "|    SAHIN|17619|\n",
      "|     KAYA|15104|\n",
      "+---------+-----+\n",
      "only showing top 3 rows\n",
      "\n",
      "AYDIN\n",
      "+---------+-----+\n",
      "|last_name|count|\n",
      "+---------+-----+\n",
      "|   YILMAZ|11892|\n",
      "|     KAYA| 8583|\n",
      "|   OZTURK| 8533|\n",
      "+---------+-----+\n",
      "only showing top 3 rows\n",
      "\n",
      "ADANA\n",
      "+---------+-----+\n",
      "|last_name|count|\n",
      "+---------+-----+\n",
      "|   YILMAZ|13825|\n",
      "|     KAYA| 8408|\n",
      "|    SAHIN| 8099|\n",
      "+---------+-----+\n",
      "only showing top 3 rows\n",
      "\n",
      "SANLIURFA\n",
      "+---------+-----+\n",
      "|last_name|count|\n",
      "+---------+-----+\n",
      "|    DEMIR|23582|\n",
      "|     KAYA|15032|\n",
      "|    KILIC|13561|\n",
      "+---------+-----+\n",
      "only showing top 3 rows\n",
      "\n"
     ]
    }
   ],
   "source": [
    "for i in city:\n",
    "    print(i)\n",
    "    sql_l=\"SELECT last_name,COUNT(*) AS count FROM mernis WHERE id_registration_city='\"+str(i)+\"' GROUP BY last_name ORDER BY COUNT(*) DESC\"\n",
    "    #print(sql_l)\n",
    "    spark.sql(sql_l).show(3)"
   ]
  },
  {
   "cell_type": "code",
   "execution_count": null,
   "metadata": {},
   "outputs": [],
   "source": []
  },
  {
   "cell_type": "code",
   "execution_count": null,
   "metadata": {},
   "outputs": [],
   "source": []
  },
  {
   "cell_type": "code",
   "execution_count": null,
   "metadata": {},
   "outputs": [],
   "source": []
  },
  {
   "cell_type": "markdown",
   "metadata": {},
   "source": [
    "计算⼀下该国前10⼤⼈⼜城市中，每个城市的⼈⼜⽣⽇最集中分布的是哪2个⽉"
   ]
  },
  {
   "cell_type": "code",
   "execution_count": 19,
   "metadata": {
    "scrolled": true
   },
   "outputs": [
    {
     "name": "stdout",
     "output_type": "stream",
     "text": [
      "ISTANBUL\n",
      "+-----------+------+\n",
      "|birth_month| count|\n",
      "+-----------+------+\n",
      "|          7|232190|\n",
      "|          1|210683|\n",
      "+-----------+------+\n",
      "only showing top 2 rows\n",
      "\n",
      "KONYA\n",
      "+-----------+------+\n",
      "|birth_month| count|\n",
      "+-----------+------+\n",
      "|          1|233455|\n",
      "|          3|160557|\n",
      "+-----------+------+\n",
      "only showing top 2 rows\n",
      "\n",
      "IZMIR\n",
      "+-----------+------+\n",
      "|birth_month| count|\n",
      "+-----------+------+\n",
      "|          1|182326|\n",
      "|          7|160248|\n",
      "+-----------+------+\n",
      "only showing top 2 rows\n",
      "\n",
      "ANKARA\n",
      "+-----------+------+\n",
      "|birth_month| count|\n",
      "+-----------+------+\n",
      "|          1|179389|\n",
      "|          3|135286|\n",
      "+-----------+------+\n",
      "only showing top 2 rows\n",
      "\n",
      "BURSA\n",
      "+-----------+------+\n",
      "|birth_month| count|\n",
      "+-----------+------+\n",
      "|          1|159285|\n",
      "|          7|133978|\n",
      "+-----------+------+\n",
      "only showing top 2 rows\n",
      "\n",
      "SIVAS\n",
      "+-----------+------+\n",
      "|birth_month| count|\n",
      "+-----------+------+\n",
      "|          1|162517|\n",
      "|          3|129923|\n",
      "+-----------+------+\n",
      "only showing top 2 rows\n",
      "\n",
      "SAMSUN\n",
      "+-----------+------+\n",
      "|birth_month| count|\n",
      "+-----------+------+\n",
      "|          1|211699|\n",
      "|          3|122190|\n",
      "+-----------+------+\n",
      "only showing top 2 rows\n",
      "\n",
      "AYDIN\n",
      "+-----------+------+\n",
      "|birth_month| count|\n",
      "+-----------+------+\n",
      "|          1|154536|\n",
      "|          3|120063|\n",
      "+-----------+------+\n",
      "only showing top 2 rows\n",
      "\n",
      "ADANA\n",
      "+-----------+------+\n",
      "|birth_month| count|\n",
      "+-----------+------+\n",
      "|          1|213863|\n",
      "|          3|107823|\n",
      "+-----------+------+\n",
      "only showing top 2 rows\n",
      "\n",
      "SANLIURFA\n",
      "+-----------+------+\n",
      "|birth_month| count|\n",
      "+-----------+------+\n",
      "|          1|309939|\n",
      "|          2| 91797|\n",
      "+-----------+------+\n",
      "only showing top 2 rows\n",
      "\n"
     ]
    }
   ],
   "source": [
    "for i in city:\n",
    "    print(i)\n",
    "    sql_l=\"SELECT birth_month,COUNT(*) AS count FROM mernis WHERE id_registration_city='\"+str(i)+\"' GROUP BY birth_month  ORDER BY COUNT(*) DESC\"\n",
    "    #print(sql_l)\n",
    "    spark.sql(sql_l).show(2)"
   ]
  },
  {
   "cell_type": "code",
   "execution_count": null,
   "metadata": {},
   "outputs": [],
   "source": []
  },
  {
   "cell_type": "markdown",
   "metadata": {},
   "source": [
    "统计⼀下，该国男、⼥最为常⽤的5个名字是什么"
   ]
  },
  {
   "cell_type": "code",
   "execution_count": 20,
   "metadata": {},
   "outputs": [
    {
     "name": "stdout",
     "output_type": "stream",
     "text": [
      "male\n",
      "+----------+-------+\n",
      "|first_name|  count|\n",
      "+----------+-------+\n",
      "|    MEHMET|1172949|\n",
      "|   MUSTAFA| 898640|\n",
      "|     AHMET| 719375|\n",
      "|       ALI| 663121|\n",
      "|   HUSEYIN| 521223|\n",
      "+----------+-------+\n",
      "only showing top 5 rows\n",
      "\n",
      "female\n",
      "+----------+-------+\n",
      "|first_name|  count|\n",
      "+----------+-------+\n",
      "|     FATMA|1154707|\n",
      "|      AYSE| 893025|\n",
      "|     EMINE| 756629|\n",
      "|    HATICE| 658979|\n",
      "|    ZEYNEP| 315488|\n",
      "+----------+-------+\n",
      "only showing top 5 rows\n",
      "\n"
     ]
    }
   ],
   "source": [
    "# 男 E 女 K\n",
    "print(\"male\")\n",
    "spark.sql(\"SELECT first_name,COUNT(*) as count FROM mernis WHERE gender='E' GROUP BY first_name ORDER BY COUNT(*) DESC\").show(5)\n",
    "print(\"female\")\n",
    "spark.sql(\"SELECT first_name,COUNT(*) as count FROM mernis WHERE gender='K' GROUP BY first_name ORDER BY COUNT(*) DESC\").show(5)"
   ]
  },
  {
   "cell_type": "code",
   "execution_count": null,
   "metadata": {},
   "outputs": [],
   "source": []
  },
  {
   "cell_type": "markdown",
   "metadata": {},
   "source": [
    "计算⼀下该国前10⼤⼈⼜城市中，每个城市的最受欢迎的3个名字是什么"
   ]
  },
  {
   "cell_type": "code",
   "execution_count": 21,
   "metadata": {},
   "outputs": [
    {
     "name": "stdout",
     "output_type": "stream",
     "text": [
      "ISTANBUL\n",
      "+----------+-----+\n",
      "|first_name|count|\n",
      "+----------+-----+\n",
      "|     FATMA|25813|\n",
      "|      AYSE|20657|\n",
      "|    MEHMET|19623|\n",
      "+----------+-----+\n",
      "only showing top 3 rows\n",
      "\n",
      "KONYA\n",
      "+----------+-----+\n",
      "|first_name|count|\n",
      "+----------+-----+\n",
      "|    MEHMET|51378|\n",
      "|      AYSE|49214|\n",
      "|   MUSTAFA|47765|\n",
      "+----------+-----+\n",
      "only showing top 3 rows\n",
      "\n",
      "IZMIR\n",
      "+----------+-----+\n",
      "|first_name|count|\n",
      "+----------+-----+\n",
      "|    MEHMET|32871|\n",
      "|     FATMA|29159|\n",
      "|      AYSE|26721|\n",
      "+----------+-----+\n",
      "only showing top 3 rows\n",
      "\n",
      "ANKARA\n",
      "+----------+-----+\n",
      "|first_name|count|\n",
      "+----------+-----+\n",
      "|     FATMA|27807|\n",
      "|    MEHMET|22514|\n",
      "|   MUSTAFA|21193|\n",
      "+----------+-----+\n",
      "only showing top 3 rows\n",
      "\n",
      "BURSA\n",
      "+----------+-----+\n",
      "|first_name|count|\n",
      "+----------+-----+\n",
      "|     FATMA|29389|\n",
      "|      AYSE|24644|\n",
      "|    MEHMET|23843|\n",
      "+----------+-----+\n",
      "only showing top 3 rows\n",
      "\n",
      "SIVAS\n",
      "+----------+-----+\n",
      "|first_name|count|\n",
      "+----------+-----+\n",
      "|     FATMA|20126|\n",
      "|    MEHMET|18569|\n",
      "|   MUSTAFA|18313|\n",
      "+----------+-----+\n",
      "only showing top 3 rows\n",
      "\n",
      "SAMSUN\n",
      "+----------+-----+\n",
      "|first_name|count|\n",
      "+----------+-----+\n",
      "|     FATMA|31100|\n",
      "|     EMINE|25030|\n",
      "|      AYSE|24045|\n",
      "+----------+-----+\n",
      "only showing top 3 rows\n",
      "\n",
      "AYDIN\n",
      "+----------+-----+\n",
      "|first_name|count|\n",
      "+----------+-----+\n",
      "|    MEHMET|41228|\n",
      "|     FATMA|30931|\n",
      "|      AYSE|27318|\n",
      "+----------+-----+\n",
      "only showing top 3 rows\n",
      "\n",
      "ADANA\n",
      "+----------+-----+\n",
      "|first_name|count|\n",
      "+----------+-----+\n",
      "|    MEHMET|27453|\n",
      "|     FATMA|23749|\n",
      "|   MUSTAFA|22176|\n",
      "+----------+-----+\n",
      "only showing top 3 rows\n",
      "\n",
      "SANLIURFA\n",
      "+----------+-----+\n",
      "|first_name|count|\n",
      "+----------+-----+\n",
      "|    MEHMET|52698|\n",
      "|     FATMA|34368|\n",
      "|     EMINE|29286|\n",
      "+----------+-----+\n",
      "only showing top 3 rows\n",
      "\n"
     ]
    }
   ],
   "source": [
    "for i in city:\n",
    "    print(i)\n",
    "    sql_l=\"SELECT first_name,COUNT(*) AS count FROM mernis WHERE id_registration_city='\"+str(i)+\"' GROUP BY first_name ORDER BY COUNT(*) DESC\"\n",
    "    #print(sql_l)\n",
    "    spark.sql(sql_l).show(3)"
   ]
  },
  {
   "cell_type": "code",
   "execution_count": null,
   "metadata": {},
   "outputs": [],
   "source": []
  }
 ],
 "metadata": {
  "kernelspec": {
   "display_name": "Python 2",
   "language": "python",
   "name": "python2"
  },
  "language_info": {
   "codemirror_mode": {
    "name": "ipython",
    "version": 2
   },
   "file_extension": ".py",
   "mimetype": "text/x-python",
   "name": "python",
   "nbconvert_exporter": "python",
   "pygments_lexer": "ipython2",
   "version": "2.7.14"
  }
 },
 "nbformat": 4,
 "nbformat_minor": 2
}
