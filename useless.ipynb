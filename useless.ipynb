{
 "cells": [
  {
   "cell_type": "code",
   "execution_count": 5,
   "metadata": {},
   "outputs": [
    {
     "name": "stdout",
     "output_type": "stream",
     "text": [
      "204635 121869 85170 73952 87132\n"
     ]
    }
   ],
   "source": [
    "filePath = \"./mernis/data_dump.sql\"\n",
    "data=[]\n",
    "schema=['uid', 'national_identifier', 'first_name', \"last_name\",'mother_first','father_first', 'gender', 'birth_city',\n",
    "'date_of_birth', 'id_registration_city', 'id_registration_district', 'address_city', 'address_district',\n",
    "'address_neighborhood', 'street_address', 'door_or_entrance_number', 'misc']\n",
    "#1:first_name,2:last_name,3:mother_first,4:father_first,5:birth_city\n",
    "set1=set()\n",
    "set2=set()\n",
    "set3=set()\n",
    "set4=set()\n",
    "set5=set()\n",
    "with open(filePath, 'r') as f:    \n",
    "    for i in range(75):\n",
    "        f.readline()\n",
    "    for i in range(12000000):\n",
    "        row = f.readline().strip().split('\\t')\n",
    "        set1.add(row[2])\n",
    "        set2.add(row[3])\n",
    "        set3.add(row[4])\n",
    "        set4.add(row[5])\n",
    "        set5.add(row[7])\n",
    "    print len(set1),len(set2),len(set3),len(set4),len(set5)"
   ]
  },
  {
   "cell_type": "code",
   "execution_count": 1,
   "metadata": {},
   "outputs": [
    {
     "data": {
      "text/plain": [
       "1"
      ]
     },
     "execution_count": 1,
     "metadata": {},
     "output_type": "execute_result"
    }
   ],
   "source": [
    "a=set()\n",
    "a.add('1')\n",
    "len(a)"
   ]
  },
  {
   "cell_type": "code",
   "execution_count": 6,
   "metadata": {},
   "outputs": [],
   "source": [
    "import pandas as pd\n",
    "from pyspark.sql import SparkSession\n",
    "from pyspark.sql import SQLContext\n",
    "from pyspark import SparkContext\n",
    "import matplotlib.pyplot as plt\n",
    "import numpy as np"
   ]
  },
  {
   "cell_type": "code",
   "execution_count": null,
   "metadata": {},
   "outputs": [],
   "source": [
    "spark = SparkSession \\\n",
    "    .builder \\\n",
    "    .appName(\"Spark PJ alt\") \\\n",
    "    .getOrCreate()\n",
    "spark.conf.set(\"spark.executor.memory\", \"32g\")\n",
    "spark.conf.set('spark.driver.memory','15g')"
   ]
  },
  {
   "cell_type": "code",
   "execution_count": 7,
   "metadata": {},
   "outputs": [],
   "source": [
    "schema_pred_gender=['first_name', \"last_name\",'mother_first','father_first', 'gender', 'birth_city']"
   ]
  },
  {
   "cell_type": "code",
   "execution_count": 8,
   "metadata": {},
   "outputs": [],
   "source": [
    "import pandas as pd\n",
    "from pyspark.sql import SparkSession"
   ]
  },
  {
   "cell_type": "code",
   "execution_count": null,
   "metadata": {},
   "outputs": [],
   "source": [
    "data=[]\n",
    "with open(filePath, 'r') as f:    \n",
    "    for i in range(75):\n",
    "        f.readline()\n",
    "    for i in range(12000000):\n",
    "        row = f.readline().strip().split('\\t')\n",
    "        data.append([row[2],row[3],row[4],row[5],row[6],row[7]])\n",
    "        \n"
   ]
  }
 ],
 "metadata": {
  "kernelspec": {
   "display_name": "Python 2",
   "language": "python",
   "name": "python2"
  },
  "language_info": {
   "codemirror_mode": {
    "name": "ipython",
    "version": 2
   },
   "file_extension": ".py",
   "mimetype": "text/x-python",
   "name": "python",
   "nbconvert_exporter": "python",
   "pygments_lexer": "ipython2",
   "version": "2.7.16"
  }
 },
 "nbformat": 4,
 "nbformat_minor": 2
}
